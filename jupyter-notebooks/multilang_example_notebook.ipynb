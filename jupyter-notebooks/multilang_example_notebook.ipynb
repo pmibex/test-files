{
  "nbformat": 4,
  "nbformat_minor": 5,
  "metadata": {
    "kernelspec": {
      "display_name": "Python 3",
      "language": "python",
      "name": "python3"
    },
    "language_info": {
      "name": "python",
      "version": "3.8"
    }
  },
  "cells": [
    {
      "cell_type": "markdown",
      "metadata": {},
      "source": [
        "# This is a heading",
        "Here is some **bold text**.",
        "- A bullet list item"
      ]
    },
    {
      "cell_type": "markdown",
      "metadata": {},
      "source": [
        "### Example: HTML code block\n",
        "This is an example of a HTML code block with exactly 3 lines of code."
      ]
    },
    {
      "cell_type": "code",
      "execution_count": null,
      "metadata": {},
      "outputs": [],
      "source": ["%%html", "body {", "  background-color: #f0f0f0;", "}"]
    },
    {
      "cell_type": "markdown",
      "metadata": {},
      "source": [
        "### Example: JAVASCRIPT code block\n",
        "This is an example of a JAVASCRIPT code block with exactly 3 lines of code."
      ]
    },
    {
      "cell_type": "code",
      "execution_count": null,
      "metadata": {},
      "outputs": [],
      "source": ["%%javascript", "let x = 5;", "let y = 10;", "console.log(x + y);"]
    },
    {
      "cell_type": "markdown",
      "metadata": {},
      "source": [
        "### Example: BASH code block\n",
        "This is an example of a BASH code block with exactly 3 lines of code."
      ]
    },
    {
      "cell_type": "code",
      "execution_count": null,
      "metadata": {},
      "outputs": [],
      "source": ["%%bash", "echo \"Listing files\"", "pwd", "ls -la"]
    },
    {
      "cell_type": "markdown",
      "metadata": {},
      "source": [
        "### Example: C code block\n",
        "This is an example of a C code block with exactly 3 lines of code."
      ]
    },
    {
      "cell_type": "code",
      "execution_count": null,
      "metadata": {},
      "outputs": [],
      "source": ["```c", "#include <stdio.h>", "int main() { return 0; }", "```"]
    },
    {
      "cell_type": "markdown",
      "metadata": {},
      "source": [
        "### Example: C# code block\n",
        "This is an example of a C# code block with exactly 3 lines of code."
      ]
    },
    {
      "cell_type": "code",
      "execution_count": null,
      "metadata": {},
      "outputs": [],
      "source": ["```c#", "using System;", "Console.WriteLine(\"Hello\");", "```"]
    },
    {
      "cell_type": "markdown",
      "metadata": {},
      "source": [
        "### Example: C++ code block\n",
        "This is an example of a C++ code block with exactly 3 lines of code."
      ]
    },
    {
      "cell_type": "code",
      "execution_count": null,
      "metadata": {},
      "outputs": [],
      "source": ["```c++", "#include <iostream>", "std::cout << \"Hello\";", "```"]
    },
    {
      "cell_type": "markdown",
      "metadata": {},
      "source": [
        "### Example: F# code block\n",
        "This is an example of a F# code block with exactly 3 lines of code."
      ]
    },
    {
      "cell_type": "code",
      "execution_count": null,
      "metadata": {},
      "outputs": [],
      "source": ["```f#", "let x = 4", "let y = x * x", "```"]
    },
    {
      "cell_type": "markdown",
      "metadata": {},
      "source": [
        "### Example: GO code block\n",
        "This is an example of a GO code block with exactly 3 lines of code."
      ]
    },
    {
      "cell_type": "code",
      "execution_count": null,
      "metadata": {},
      "outputs": [],
      "source": ["```go", "package main", "func main() {}", "```"]
    },
    {
      "cell_type": "markdown",
      "metadata": {},
      "source": [
        "### Example: JAVA code block\n",
        "This is an example of a JAVA code block with exactly 3 lines of code."
      ]
    },
    {
      "cell_type": "code",
      "execution_count": null,
      "metadata": {},
      "outputs": [],
      "source": ["```java", "class A {}", "public static void main(String[] args) {}", "```"]
    },
    {
      "cell_type": "markdown",
      "metadata": {},
      "source": [
        "### Example: JULIA code block\n",
        "This is an example of a JULIA code block with exactly 3 lines of code."
      ]
    },
    {
      "cell_type": "code",
      "execution_count": null,
      "metadata": {},
      "outputs": [],
      "source": ["```julia", "x = 1", "y = 2", "```"]
    },
    {
      "cell_type": "markdown",
      "metadata": {},
      "source": [
        "### Example: PYTHON code block\n",
        "This is an example of a PYTHON code block with exactly 3 lines of code."
      ]
    },
    {
      "cell_type": "code",
      "execution_count": null,
      "metadata": {},
      "outputs": [],
      "source": ["```python", "a = 1", "b = 2", "```"]
    },
    {
      "cell_type": "markdown",
      "metadata": {},
      "source": [
        "### Example: R code block\n",
        "This is an example of a R code block with exactly 3 lines of code."
      ]
    },
    {
      "cell_type": "code",
      "execution_count": null,
      "metadata": {},
      "outputs": [],
      "source": ["%%R", "x <- 1", "y <- x * 2", "print(y)"]
    },
    {
      "cell_type": "markdown",
      "metadata": {},
      "source": [
        "### Example: RUST code block\n",
        "This is an example of a RUST code block with exactly 3 lines of code."
      ]
    },
    {
      "cell_type": "code",
      "execution_count": null,
      "metadata": {},
      "outputs": [],
      "source": ["```rust", "fn main() {", "}", "```"]
    },
    {
      "cell_type": "markdown",
      "metadata": {},
      "source": [
        "### Example: SCALA code block\n",
        "This is an example of a SCALA code block with exactly 3 lines of code."
      ]
    },
    {
      "cell_type": "code",
      "execution_count": null,
      "metadata": {},
      "outputs": [],
      "source": ["```scala", "object A {", "}", "```"]
    },
    {
      "cell_type": "markdown",
      "metadata": {},
      "source": [
        "### Example: SQL code block\n",
        "This is an example of a SQL code block with exactly 3 lines of code."
      ]
    },
    {
      "cell_type": "code",
      "execution_count": null,
      "metadata": {},
      "outputs": [],
      "source": ["%%sql", "SELECT *", "FROM users", "LIMIT 3"]
    },
    {
      "cell_type": "markdown",
      "metadata": {},
      "source": [
        "### Example: TYPESCRIPT code block\n",
        "This
