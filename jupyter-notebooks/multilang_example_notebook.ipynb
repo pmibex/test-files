{
  "nbformat": 4,
  "nbformat_minor": 5,
  "metadata": {
    "kernelspec": {
      "display_name": "Python 3",
      "language": "python",
      "name": "python3"
    },
    "language_info": {
      "name": "python",
      "version": "3.8"
    }
  },
  "cells": [
    {
      "cell_type": "code",
      "execution_count": null,
      "metadata": {},
      "outputs": [],
      "source": [
        "%%sql\n",
        "-- Complex SQL statement with a CTE and a join\n",
        "WITH recent_orders AS (\n",
        "    SELECT customer_id, order_id, order_date\n",
        "    FROM orders\n",
        "    WHERE order_date > CURRENT_DATE - INTERVAL '30 days'\n",
        ")\n",
        "SELECT c.name, r.order_id, r.order_date\n",
        "FROM customers c\n",
        "JOIN recent_orders r ON c.customer_id = r.customer_id\n",
        "ORDER BY r.order_date DESC;"
      ]
    },
    {
      "cell_type": "code",
      "execution_count": null,
      "metadata": {},
      "outputs": [],
      "source": [
        "%%R\n",
        "# Function in R that multiplies a number by its half\n",
        "multiply_half <- function(x) {\n",
        "  return(x * (x / 2))\n",
        "}\n",
        "multiply_half(10)"
      ]
    },
    {
      "cell_type": "code",
      "execution_count": null,
      "metadata": {},
      "outputs": [],
      "source": [
        "```scala\n",
        "// Function in Scala that multiplies a number by its half\n",
        "object MathUtils {\n",
        "  def multiplyHalf(x: Double): Double = x * (x / 2)\n",
        "}\n",
        "println(MathUtils.multiplyHalf(10))\n",
        "```"
      ]
    },
    {
      "cell_type": "code",
      "execution_count": null,
      "metadata": {},
      "outputs": [],
      "source": [
        "```julia\n",
        "# Function in Julia that multiplies a number by its half\n",
        "function multiply_half(x)\n",
        "    return x * (x / 2)\n",
        "end\n",
        "println(multiply_half(10))\n",
        "```"
      ]
    }
  ]
}
