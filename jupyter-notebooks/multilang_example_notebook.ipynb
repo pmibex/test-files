{
  "cells": [
    {
      "cell_type": "markdown",
      "metadata": {},
      "source": [
        "# Multi-language Jupyter Notebook\n",
        "This notebook demonstrates the use of multiple languages:\n",
        "- Python\n",
        "- Bash\n",
        "- JavaScript\n",
        "- R\n",
        "- SQL"
      ]
    },
    {
      "cell_type": "code",
      "execution_count": 1,
      "metadata": {},
      "outputs": [],
      "source": [
        "# Python code\n",
        "def greet(name):\n",
        "    return f\"Hello, {name}!\"\n",
        "\n",
        "greet(\"World\")"
      ]
    },
    {
      "cell_type": "code",
      "execution_count": 2,
      "metadata": {},
      "outputs": [],
      "source": [
        "%%bash\n",
        "echo \"This is Bash!\"\n",
        "ls -l"
      ]
    },
    {
      "cell_type": "code",
      "execution_count": 3,
      "metadata": {},
      "outputs": [],
      "source": [
        "%%javascript\n",
        "console.log('This is JavaScript');"
      ]
    },
    {
      "cell_type": "code",
      "execution_count": 4,
      "metadata": {},
      "outputs": [],
      "source": [
        "%%R\n",
        "# This is R code (requires IRkernel or rpy2)\n",
        "x <- c(1, 2, 3, 4, 5)\n",
        "mean(x)"
      ]
    },
    {
      "cell_type": "code",
      "execution_count": 5,
      "metadata": {},
      "outputs": [],
      "source": [
        "%%sql\n",
        "# This is SQL code (requires ipython-sql and a database connection)\n",
        "SELECT 'Hello from SQL' AS message;"
      ]
    }
  ],
  "metadata": {
    "kernelspec": {
      "display_name": "Python 3",
      "language": "python",
      "name": "python3"
    },
    "language_info": {
      "name": "python",
      "version": "3.8"
    }
  },
  "nbformat": 4,
  "nbformat_minor": 5
}