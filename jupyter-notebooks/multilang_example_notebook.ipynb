{
  "nbformat": 4,
  "nbformat_minor": 5,
  "metadata": {
    "kernelspec": {
      "display_name": "Python 3",
      "language": "python",
      "name": "python3"
    },
    "language_info": {
      "name": "python",
      "version": "3.8"
    }
  },
  "cells": [
    {
      "cell_type": "markdown",
      "metadata": {},
      "source": [
        "# This is a heading",
        "Here is some **bold text**.",
        "- A bullet list item"
      ]
    },
    {
      "cell_type": "code",
      "execution_count": null,
      "metadata": {},
      "outputs": [],
      "source": ["%%html", "body {", "  background-color: #f0f0f0;", "}"]
    },
    {
      "cell_type": "code",
      "execution_count": null,
      "metadata": {},
      "outputs": [],
      "source": ["%%javascript", "let x = 5;", "let y = 10;", "console.log(x + y);"]
    },
    {
      "cell_type": "code",
      "execution_count": null,
      "metadata": {},
      "outputs": [],
      "source": ["%%bash", "echo \"Listing files\"", "pwd", "ls -la"]
    },
    {
      "cell_type": "code",
      "execution_count": null,
      "metadata": {},
      "outputs": [],
      "source": ["```c\n", "#include <stdio.h>", "int main() { printf(\"Hello, C!\\n\"); return 0; }", "", "```"]
    },
    {
      "cell_type": "code",
      "execution_count": null,
      "metadata": {},
      "outputs": [],
      "source": ["```c#\n", "using System;", "class Program { static void Main() { Console.WriteLine(\"Hello, C#\"); } }", "", "```"]
    },
    {
      "cell_type": "code",
      "execution_count": null,
      "metadata": {},
      "outputs": [],
      "source": ["```c++\n", "#include <iostream>", "int main() { std::cout << \"Hello, C++\" << std::endl; return 0; }", "", "```"]
    },
    {
      "cell_type": "code",
      "execution_count": null,
      "metadata": {},
      "outputs": [],
      "source": ["```f#\n", "let square x = x * x", "let result = square 4", "printfn \"%d\" result", "```"]
    },
    {
      "cell_type": "code",
      "execution_count": null,
      "metadata": {},
      "outputs": [],
      "source": ["```go\n", "package main", "import \"fmt\"", "func main() { fmt.Println(\"Hello, Go\") }", "```"]
    },
    {
      "cell_type": "code",
      "execution_count": null,
      "metadata": {},
      "outputs": [],
      "source": ["```java\n", "public class Hello {", "  public static void main(String[] args) { System.out.println(\"Hello, Java\"); }", "}", "```"]
    },
    {
      "cell_type": "code",
      "execution_count": null,
      "metadata": {},
      "outputs": [],
      "source": ["```julia\n", "x = 10", "y = 20", "println(x + y)", "```"]
    },
    {
      "cell_type": "code",
      "execution_count": null,
      "metadata": {},
      "outputs": [],
      "source": ["```python\n", "x = 5", "y = 10", "print(x + y)", "```"]
    },
    {
      "cell_type": "code",
      "execution_count": null,
      "metadata": {},
      "outputs": [],
      "source": ["%%R", "x <- 1:5", "y <- mean(x)", "print(y)"]
    },
    {
      "cell_type": "code",
      "execution_count": null,
      "metadata": {},
      "outputs": [],
      "source": ["```rust\n", "fn main() {", "    println!(\"Hello, Rust!\");", "}", "```"]
    },
    {
      "cell_type": "code",
      "execution_count": null,
      "metadata": {},
      "outputs": [],
      "source": ["```scala\n", "object Hello extends App {", "  println(\"Hello, Scala\")", "}", "```"]
    },
    {
      "cell_type": "code",
      "execution_count": null,
      "metadata": {},
      "outputs": [],
      "source": ["%%sql", "SELECT name, age", "FROM users", "WHERE age > 18;"]
    },
    {
      "cell_type": "code",
      "execution_count": null,
      "metadata": {},
      "outputs": [],
      "source": ["```typescript\n", "let name: string = \"Alice\";", "let age: number = 30;", "console.log(`${name} is ${age} years old`);", "```"]
    }
  ]
}
